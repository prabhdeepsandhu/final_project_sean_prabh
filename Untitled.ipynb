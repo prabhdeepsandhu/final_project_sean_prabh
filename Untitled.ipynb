{
 "cells": [
  {
   "cell_type": "code",
   "execution_count": 45,
   "id": "4f39b842",
   "metadata": {},
   "outputs": [],
   "source": [
    "import pandas as pd"
   ]
  },
  {
   "cell_type": "code",
   "execution_count": 51,
   "id": "520c9e31",
   "metadata": {},
   "outputs": [],
   "source": [
    "data = pd.read_csv('song_list.csv')"
   ]
  },
  {
   "cell_type": "code",
   "execution_count": null,
   "id": "8ac4285c",
   "metadata": {},
   "outputs": [],
   "source": []
  },
  {
   "cell_type": "code",
   "execution_count": 55,
   "id": "71c1bd75",
   "metadata": {},
   "outputs": [],
   "source": [
    "data.to_html('abc.html')"
   ]
  },
  {
   "cell_type": "code",
   "execution_count": 56,
   "id": "d071c790",
   "metadata": {},
   "outputs": [],
   "source": [
    "data.to_json('abc.json')"
   ]
  },
  {
   "cell_type": "code",
   "execution_count": null,
   "id": "cd5c6eea",
   "metadata": {},
   "outputs": [],
   "source": []
  }
 ],
 "metadata": {
  "kernelspec": {
   "display_name": "Python 3",
   "language": "python",
   "name": "python3"
  },
  "language_info": {
   "codemirror_mode": {
    "name": "ipython",
    "version": 3
   },
   "file_extension": ".py",
   "mimetype": "text/x-python",
   "name": "python",
   "nbconvert_exporter": "python",
   "pygments_lexer": "ipython3",
   "version": "3.8.8"
  }
 },
 "nbformat": 4,
 "nbformat_minor": 5
}
